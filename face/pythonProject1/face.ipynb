{
 "cells": [
  {
   "cell_type": "code",
   "id": "initial_id",
   "metadata": {
    "collapsed": true,
    "ExecuteTime": {
     "end_time": "2024-07-18T03:13:33.870031Z",
     "start_time": "2024-07-18T03:13:28.258284Z"
    }
   },
   "source": [
    "import cv2              \n",
    "import numpy as np\n",
    "cap = cv2.VideoCapture(0) \n",
    "\n",
    "while(cap.isOpened()):\n",
    "    ret, img = cap.read()             \n",
    "    print(ret)\n",
    "    if ret:  \n",
    "        gray = cv2.cvtColor(img,cv2.COLOR_BGR2GRAY)\n",
    "        faceCascade = cv2.CascadeClassifier('haarcascade_frontalface_default.xml')\n",
    "        faces_rects = faceCascade.detectMultiScale(img,scaleFactor = 1.1,minNeighbors = 5,minSize = (30,30),flags = cv2.CASCADE_SCALE_IMAGE)\n",
    "        \n",
    "        for (x,y,w,h) in faces_rects:\n",
    "            img = cv2.rectangle(img,(x,y),(x+w,y+h),(255,0,0),2)\n",
    "           \n",
    "        cv2.imshow('Press Spacebar to Exit',img) \n",
    "\n",
    "        if cv2.waitKey(10) & 0xFF == ord(' '):  # 按下空格键退出\n",
    "            break\n",
    "    else: \n",
    "        break\n",
    "\n",
    "cap.release()                          \n",
    "cv2.destroyAllWindows()"
   ],
   "outputs": [
    {
     "name": "stdout",
     "output_type": "stream",
     "text": [
      "True\n",
      "True\n",
      "True\n",
      "True\n",
      "True\n",
      "True\n",
      "True\n",
      "True\n",
      "True\n",
      "True\n",
      "True\n",
      "True\n",
      "True\n",
      "True\n",
      "True\n",
      "True\n",
      "True\n",
      "True\n",
      "True\n",
      "True\n",
      "True\n",
      "True\n",
      "True\n",
      "True\n",
      "True\n",
      "True\n",
      "True\n",
      "True\n",
      "True\n",
      "True\n",
      "True\n",
      "True\n",
      "True\n",
      "True\n",
      "True\n",
      "True\n",
      "True\n",
      "True\n",
      "True\n",
      "True\n",
      "True\n",
      "True\n"
     ]
    }
   ],
   "execution_count": 1
  },
  {
   "metadata": {},
   "cell_type": "code",
   "outputs": [],
   "execution_count": null,
   "source": "",
   "id": "764c910eb6f944bc"
  }
 ],
 "metadata": {
  "kernelspec": {
   "display_name": "Python 3",
   "language": "python",
   "name": "python3"
  },
  "language_info": {
   "codemirror_mode": {
    "name": "ipython",
    "version": 2
   },
   "file_extension": ".py",
   "mimetype": "text/x-python",
   "name": "python",
   "nbconvert_exporter": "python",
   "pygments_lexer": "ipython2",
   "version": "2.7.6"
  }
 },
 "nbformat": 4,
 "nbformat_minor": 5
}
